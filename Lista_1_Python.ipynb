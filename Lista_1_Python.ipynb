{
  "nbformat": 4,
  "nbformat_minor": 0,
  "metadata": {
    "colab": {
      "name": "Lista-1-FAE.ipynb",
      "provenance": [],
      "authorship_tag": "ABX9TyN/0qxeRqww3GXhcEFsGa82",
      "include_colab_link": true
    },
    "kernelspec": {
      "name": "python3",
      "display_name": "Python 3"
    },
    "language_info": {
      "name": "python"
    }
  },
  "cells": [
    {
      "cell_type": "markdown",
      "metadata": {
        "id": "view-in-github",
        "colab_type": "text"
      },
      "source": [
        "<a href=\"https://colab.research.google.com/github/taisizidoro/Listas-Analise-de-Dados-FAE/blob/main/Lista_1_Python.ipynb\" target=\"_parent\"><img src=\"https://colab.research.google.com/assets/colab-badge.svg\" alt=\"Open In Colab\"/></a>"
      ]
    },
    {
      "cell_type": "markdown",
      "metadata": {
        "id": "3fnlAJMOrfST"
      },
      "source": [
        "1. Receba a temperatura em Celsius como entrada, e como saída, dê a temperatura em Fahrenheit."
      ]
    },
    {
      "cell_type": "code",
      "metadata": {
        "colab": {
          "base_uri": "https://localhost:8080/"
        },
        "id": "GUagHEHirTJR",
        "outputId": "5a506a8a-0c28-4c4a-b691-90d72ada5176"
      },
      "source": [
        "tc = int(input(print(\"Digite o valor da temperatura em graus Celsius:\")))\n",
        "tf = (9/5)*tc+32\n",
        "print(tf)"
      ],
      "execution_count": null,
      "outputs": [
        {
          "output_type": "stream",
          "text": [
            "Digite o valor da temperatura em graus Celsius:\n",
            "0\n",
            "32.0\n"
          ],
          "name": "stdout"
        }
      ]
    },
    {
      "cell_type": "markdown",
      "metadata": {
        "id": "Via0H3HasuUM"
      },
      "source": [
        "2. Calcule as raízes da equação de segundo grau, tendo como entrada os valores de a, b e c. Não se esqueça de incluir os casos em que a=0, delta > 0, delta = 0 e delta < 0."
      ]
    },
    {
      "cell_type": "code",
      "metadata": {
        "colab": {
          "base_uri": "https://localhost:8080/"
        },
        "id": "kTLJYYWeswFY",
        "outputId": "3626ea12-07ae-4cc8-f53c-509ba30cb376"
      },
      "source": [
        "import cmath\n",
        "a = int(input(print(\"Digite o valor de a:\")))\n",
        "b = int(input(print(\"Digite o valor de b:\")))\n",
        "c = int(input(print(\"Digite o valor de c:\")))\n",
        "delta = b**2 -4*a*c\n",
        "\n",
        "if (a == 0):\n",
        "  raiz = -c/b\n",
        "  print(\"raiz = \", round(raiz,1))\n",
        "elif (delta>0):\n",
        "  raiz1 = (-b + (delta)**(1/2))/(2*a)\n",
        "  raiz2 = (-b - (delta)**(1/2))/(2*a)\n",
        "  print(\"raiz_1 = \",round(raiz1,1), \", raiz_2 = \", round(raiz2,1))\n",
        "elif (delta==0):\n",
        "  raiz = -b/(2*a)\n",
        "  print(\"raiz = \", round(raiz,1))\n",
        "elif (delta<0):\n",
        "  mod_delta = -delta \n",
        "  c = (delta)**(1/2)/(2*a)\n",
        "  raiz1_real = round(-b/(2*a),1) + round(c.real, 1)\n",
        "  raiz1_img = round(c.imag,1)\n",
        "  raiz2_real = round(-b/(2*a),1) - round(c.real, 1)\n",
        "  raiz2_img = round(c.imag,1)\n",
        "  print(\"raiz_1 = \", raiz1_real, \"+\", raiz1_img,\"i\", \", raiz_2 = \", raiz2_real, \"+\", raiz2_img,\"i\")"
      ],
      "execution_count": null,
      "outputs": [
        {
          "output_type": "stream",
          "text": [
            "Digite o valor de a:\n",
            "1\n",
            "Digite o valor de b:\n",
            "9\n",
            "Digite o valor de c:\n",
            "3\n",
            "raiz_1 =  -0.3 , raiz_2 =  -8.7\n"
          ],
          "name": "stdout"
        }
      ]
    },
    {
      "cell_type": "markdown",
      "metadata": {
        "id": "MAp5wCdkzbm8"
      },
      "source": [
        "3. Determine se um número de entrada é par ou ímpar."
      ]
    },
    {
      "cell_type": "code",
      "metadata": {
        "colab": {
          "base_uri": "https://localhost:8080/"
        },
        "id": "cNIY4duTzfhq",
        "outputId": "5baec7d2-9749-4155-85dc-f78302115d7c"
      },
      "source": [
        "x = int(input(print(\"Digite o número:\")))\n",
        "\n",
        "if (x % 2 == 0):\n",
        "  print(\"O número é par\")\n",
        "else:\n",
        "  print(\"O número é impar\")"
      ],
      "execution_count": null,
      "outputs": [
        {
          "output_type": "stream",
          "text": [
            "Digite o número:\n",
            "3\n",
            "O número é impar\n"
          ],
          "name": "stdout"
        }
      ]
    },
    {
      "cell_type": "markdown",
      "metadata": {
        "id": "4sdlUv6P0L63"
      },
      "source": [
        "4. Escreva uma função em Python que calcule a posição de um automóvel que está em movimento retilíneo uniforme, para um dado instante t."
      ]
    },
    {
      "cell_type": "code",
      "metadata": {
        "colab": {
          "base_uri": "https://localhost:8080/"
        },
        "id": "CnpOPQbE0O_v",
        "outputId": "d4bb26db-17c8-4720-f7b5-d85481fd1d73"
      },
      "source": [
        "#seja a velocidade do automóvel v = 20 m/s\n",
        "\n",
        "def posicao():\n",
        "  v = 20 \n",
        "  t = int(input(print(\"Dê o instante t:\")))\n",
        "  s = v*t \n",
        "  print(s)\n",
        "\n",
        "posicao()\n"
      ],
      "execution_count": null,
      "outputs": [
        {
          "output_type": "stream",
          "text": [
            "Dê o instante t:\n",
            "4\n",
            "80\n"
          ],
          "name": "stdout"
        }
      ]
    },
    {
      "cell_type": "markdown",
      "metadata": {
        "id": "tG3-0SeOHIUO"
      },
      "source": [
        "5. Pergunte ao usuário por uma string e cheque se a letra ‘s’ está contida nela."
      ]
    },
    {
      "cell_type": "code",
      "metadata": {
        "colab": {
          "base_uri": "https://localhost:8080/"
        },
        "id": "YnNzcA9kHJZn",
        "outputId": "573711f3-fab5-40ec-9a16-240acb9b4b2a"
      },
      "source": [
        "palavra = input(print(\"Dê o instante t:\"))\n",
        "elemento = \"s\" \n",
        "if (elemento in palavra):\n",
        "  print(\"Está contida.\")\n",
        "else:\n",
        "  print(\"Não está contida.\")  "
      ],
      "execution_count": null,
      "outputs": [
        {
          "output_type": "stream",
          "text": [
            "Dê o instante t:\n",
            "pedra\n",
            "Não está contida.\n"
          ],
          "name": "stdout"
        }
      ]
    },
    {
      "cell_type": "markdown",
      "metadata": {
        "id": "9i78zZ24Lhe2"
      },
      "source": [
        "6. Imprima os 100 primeiros números primos."
      ]
    },
    {
      "cell_type": "code",
      "metadata": {
        "colab": {
          "base_uri": "https://localhost:8080/"
        },
        "id": "Moxc0NjjLiei",
        "outputId": "2f393ff4-1914-479e-be46-64fd172a26a3"
      },
      "source": [
        "from math import sqrt\n",
        "\n",
        "def primo(a):\n",
        "  l = [i for i in range(2,a+1)]\n",
        "  \n",
        "  x = True \n",
        "  for c in range(2, a):\n",
        "    for i in range (2,c):\n",
        "      if c%i == 0:\n",
        "        x = False\n",
        "        l.remove(c)\n",
        "        break\n",
        "        c =+1\n",
        "  print(len(l), \"números primos listados\")\n",
        "  print(l)\n",
        "\n",
        "\n",
        "primo(540)"
      ],
      "execution_count": null,
      "outputs": [
        {
          "output_type": "stream",
          "text": [
            "100 números primos listados\n",
            "[2, 3, 5, 7, 11, 13, 17, 19, 23, 29, 31, 37, 41, 43, 47, 53, 59, 61, 67, 71, 73, 79, 83, 89, 97, 101, 103, 107, 109, 113, 127, 131, 137, 139, 149, 151, 157, 163, 167, 173, 179, 181, 191, 193, 197, 199, 211, 223, 227, 229, 233, 239, 241, 251, 257, 263, 269, 271, 277, 281, 283, 293, 307, 311, 313, 317, 331, 337, 347, 349, 353, 359, 367, 373, 379, 383, 389, 397, 401, 409, 419, 421, 431, 433, 439, 443, 449, 457, 461, 463, 467, 479, 487, 491, 499, 503, 509, 521, 523, 540]\n"
          ],
          "name": "stdout"
        }
      ]
    },
    {
      "cell_type": "markdown",
      "metadata": {
        "id": "7rDWfHQEo5HX"
      },
      "source": [
        "7. Remova todos os espaços em branco e coloque a primeira letra maiúscula da lista: nomes = ['    marCELo', 'fabiana', ' MArta ', 'ELIAS']"
      ]
    },
    {
      "cell_type": "code",
      "metadata": {
        "colab": {
          "base_uri": "https://localhost:8080/"
        },
        "id": "WTzjIhDko67o",
        "outputId": "019fb77d-4fee-40dd-a6d1-630e05b2679f"
      },
      "source": [
        "nomes = ['    marCELo', 'fabiana', ' MArta ', 'ELIAS']\n",
        "nomes2 = []\n",
        "\n",
        "\n",
        "for i in range(0,len(nomes),1): \n",
        "  nomes2.append(nomes[i].lower().title())\n",
        "  b = \" \"\n",
        "  for i in range(0,len(nomes2)):\n",
        "    nomes2[i] =nomes2[i].replace(b,\"\")\n",
        "\n",
        "nomes = nomes2\n",
        "print(nomes)\n"
      ],
      "execution_count": null,
      "outputs": [
        {
          "output_type": "stream",
          "text": [
            "['Marcelo', 'Fabiana', 'Marta', 'Elias']\n"
          ],
          "name": "stdout"
        }
      ]
    },
    {
      "cell_type": "markdown",
      "metadata": {
        "id": "y0cjDeeahG3c"
      },
      "source": [
        "8. Remova todos os elementos duplicados da lista nomes = ['carlos', 'carlos', 'leonardo', 'carlos, 'roberto', 'maria', 'gabriela', 2, 2, 2, 3, 3, 4, 'guilherme', 'gustavo']"
      ]
    },
    {
      "cell_type": "code",
      "metadata": {
        "colab": {
          "base_uri": "https://localhost:8080/"
        },
        "id": "qufWflLKhK1Z",
        "outputId": "8feecdad-a2e9-485f-8bad-fa52f3a5867e"
      },
      "source": [
        "nomes = ['carlos', 'carlos', 'leonardo', 'carlos', 'roberto', 'maria', 'gabriela', 2, 2, 2, 3, 3, 4, 'guilherme', 'gustavo']\n",
        "\n",
        "nomes = list(set(nomes))\n",
        "print(nomes)"
      ],
      "execution_count": null,
      "outputs": [
        {
          "output_type": "stream",
          "text": [
            "['carlos', 2, 3, 4, 'gustavo', 'gabriela', 'maria', 'roberto', 'guilherme', 'leonardo']\n"
          ],
          "name": "stdout"
        }
      ]
    },
    {
      "cell_type": "markdown",
      "metadata": {
        "id": "pFaU7D19ogh8"
      },
      "source": [
        "9. Escreva uma função que faça um loop sobre a lista primeiro_nome e a lista ultimo_nome, combine as duas e retorne uma lista como nome completo. primeiro_nome = ['Pedro', 'Patricia', 'Lilian', 'Monica'] e ultimo_nome = ['Machado', 'Oliveira', 'Silva', 'Nunes]."
      ]
    },
    {
      "cell_type": "code",
      "metadata": {
        "colab": {
          "base_uri": "https://localhost:8080/"
        },
        "id": "bjbYzGBaohwE",
        "outputId": "9f1d8fdb-f647-4db1-e08b-24a065c5ec48"
      },
      "source": [
        "primeiro_nome = ['Pedro', 'Patricia', 'Lilian', 'Monica']\n",
        "ultimo_nome = ['Machado', 'Oliveira', 'Silva', 'Nunes']\n",
        "\n",
        "\n",
        "\n",
        "def nome_completo():\n",
        "  import itertools\n",
        "\n",
        "  nome = []\n",
        "  for p in primeiro_nome:\n",
        "        for u in ultimo_nome:\n",
        "            nome.append(p + \" \" + u)\n",
        "  return nome\n",
        "  print(nome)\n",
        "\n",
        "nome_completo()"
      ],
      "execution_count": null,
      "outputs": [
        {
          "output_type": "execute_result",
          "data": {
            "text/plain": [
              "['Pedro Machado',\n",
              " 'Pedro Oliveira',\n",
              " 'Pedro Silva',\n",
              " 'Pedro Nunes',\n",
              " 'Patricia Machado',\n",
              " 'Patricia Oliveira',\n",
              " 'Patricia Silva',\n",
              " 'Patricia Nunes',\n",
              " 'Lilian Machado',\n",
              " 'Lilian Oliveira',\n",
              " 'Lilian Silva',\n",
              " 'Lilian Nunes',\n",
              " 'Monica Machado',\n",
              " 'Monica Oliveira',\n",
              " 'Monica Silva',\n",
              " 'Monica Nunes']"
            ]
          },
          "metadata": {},
          "execution_count": 318
        }
      ]
    },
    {
      "cell_type": "markdown",
      "metadata": {
        "id": "CViavqTXhdRD"
      },
      "source": [
        "10. Dada um lista como entrada, escreva uma função que retorne uma lista com os números menores que 10. Por exemplo; se a lista de entrada for [1,12,13,6,7,9] a saída deverá ser [1,6,7,9]."
      ]
    },
    {
      "cell_type": "code",
      "metadata": {
        "colab": {
          "base_uri": "https://localhost:8080/"
        },
        "id": "BHgjO1YhhhaS",
        "outputId": "ef8f89c9-d8d7-4aa9-b9f6-2d280566d822"
      },
      "source": [
        "def menor10(l):\n",
        "\n",
        "  l = []\n",
        "  ll = []\n",
        "  c = True\n",
        "\n",
        "  while c: \n",
        "    r = (input(print(\"Digite os números da lista, quando acabar digite q.\")))\n",
        "    l.append(r)\n",
        "    if r == \"q\":\n",
        "      l.remove(\"q\")\n",
        "      c = False\n",
        "\n",
        "  for i in l: \n",
        "    i = int(i)\n",
        "    if i<10:\n",
        "      ll.append(i)\n",
        "  print(ll)\n",
        "\n",
        "\n",
        "\n",
        "menor10(l)\n",
        "    "
      ],
      "execution_count": null,
      "outputs": [
        {
          "output_type": "stream",
          "text": [
            "Digite os números da lista, quando acabar digite q.\n",
            "1\n",
            "Digite os números da lista, quando acabar digite q.\n",
            "2\n",
            "Digite os números da lista, quando acabar digite q.\n",
            "10\n",
            "Digite os números da lista, quando acabar digite q.\n",
            "20\n",
            "Digite os números da lista, quando acabar digite q.\n",
            "q\n",
            "[1, 2]\n"
          ],
          "name": "stdout"
        }
      ]
    },
    {
      "cell_type": "markdown",
      "metadata": {
        "id": "27JmR8fuD1PT"
      },
      "source": [
        "11. Crie uma função que printe todas os pares de chaves e valores com o .format(). Use o dicionário pessoas = { 'Marcelo': 'azul',  'Lilian': 'marrom', 'Bruna': 'azul', 'Leandro': 'marrom', 'Tadeu': 'verde'}, o output deverá ser: Output should be: Marcelo tem olhos azul, Lilian tem olhos marrom, Bruna tem olhos azul, Leandro tem olhos marrom, Tadeu tem olhos verde."
      ]
    },
    {
      "cell_type": "code",
      "metadata": {
        "colab": {
          "base_uri": "https://localhost:8080/"
        },
        "id": "4T0cNko7S5LX",
        "outputId": "f33b4d5d-45c2-4282-f0f0-fb010e3a2e01"
      },
      "source": [
        "pessoas = { 'Marcelo': 'azul', 'Lilian': 'marrom', 'Bruna': 'azul', 'Leandro': 'marrom', 'Tadeu': 'verde'}\n",
        "\n",
        "for i in pessoas: \n",
        "  print(i, \"tem olhos\", pessoas[i])"
      ],
      "execution_count": 2,
      "outputs": [
        {
          "output_type": "stream",
          "text": [
            "Marcelo tem olhos azul\n",
            "Lilian tem olhos marrom\n",
            "Bruna tem olhos azul\n",
            "Leandro tem olhos marrom\n",
            "Tadeu tem olhos verde\n"
          ],
          "name": "stdout"
        }
      ]
    },
    {
      "cell_type": "markdown",
      "metadata": {
        "id": "_SfIdwVkU2jw"
      },
      "source": [
        "12. Usando a função map e função lambda, crie uma função que duplique e subtraia 1 dos elementos de uma lista."
      ]
    },
    {
      "cell_type": "code",
      "metadata": {
        "colab": {
          "base_uri": "https://localhost:8080/"
        },
        "id": "2GZDWTLfU3rm",
        "outputId": "04586dd0-df68-4fa3-e1de-22a2c5a781a7"
      },
      "source": [
        "l = []\n",
        "ll = []\n",
        "c = True\n",
        "\n",
        "while c: \n",
        "  r = (input(print(\"Digite os números da lista, quando acabar digite q.\")))\n",
        "  l.append(r)\n",
        "  if r == \"q\":\n",
        "    l.remove(\"q\")\n",
        "    c = False\n",
        "\n",
        "for i in l: \n",
        "  i = int(i)\n",
        "  funcao = lambda i: i*2-1\n",
        "  ll.append(funcao(i))\n",
        "  \n",
        "print(ll)"
      ],
      "execution_count": 11,
      "outputs": [
        {
          "output_type": "stream",
          "text": [
            "Digite os números da lista, quando acabar digite q.\n",
            "3\n",
            "Digite os números da lista, quando acabar digite q.\n",
            "4\n",
            "Digite os números da lista, quando acabar digite q.\n",
            "q\n",
            "[5, 7]\n"
          ],
          "name": "stdout"
        }
      ]
    },
    {
      "cell_type": "markdown",
      "metadata": {
        "id": "Ny08ax2uW4CO"
      },
      "source": [
        "13. Use a função reduce junto com uma lambda para multiplicar os números de uma lista."
      ]
    },
    {
      "cell_type": "code",
      "metadata": {
        "colab": {
          "base_uri": "https://localhost:8080/"
        },
        "id": "A6YGeAppXJT_",
        "outputId": "39d0cd2e-70b4-441f-8a82-3aec50e76e92"
      },
      "source": [
        "from functools import reduce\n",
        "\n",
        "l = []\n",
        "c = True\n",
        "\n",
        "while c: \n",
        "  r = (input(print(\"Digite os números da lista, quando acabar digite q.\")))\n",
        "  if r!=\"q\":\n",
        "    l.append(int(r))\n",
        "  if r == \"q\":\n",
        "    c = False\n",
        "\n",
        "funcao = reduce(lambda i, j: i*j, l)\n",
        "    \n",
        "  \n",
        "print(funcao)\n"
      ],
      "execution_count": 29,
      "outputs": [
        {
          "output_type": "stream",
          "text": [
            "Digite os números da lista, quando acabar digite q.\n",
            "2\n",
            "Digite os números da lista, quando acabar digite q.\n",
            "3\n",
            "Digite os números da lista, quando acabar digite q.\n",
            "q\n",
            "6\n"
          ],
          "name": "stdout"
        }
      ]
    }
  ]
}